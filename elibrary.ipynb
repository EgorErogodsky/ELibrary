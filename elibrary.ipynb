{
 "cells": [
  {
   "cell_type": "code",
   "execution_count": 106,
   "outputs": [],
   "source": [
    "import mysql.connector"
   ],
   "metadata": {
    "collapsed": false
   }
  },
  {
   "cell_type": "code",
   "execution_count": 107,
   "outputs": [
    {
     "name": "stdout",
     "output_type": "stream",
     "text": [
      "<mysql.connector.connection_cext.CMySQLConnection object at 0x000001E10D8CEFE0>\n"
     ]
    }
   ],
   "source": [
    "elib_db = mysql.connector.connect(\n",
    "    host=\"localhost\",\n",
    "    user=\"root\",\n",
    "    password=\"root\",\n",
    "    database=\"elibrary\"\n",
    ")\n",
    "\n",
    "print(elib_db)\n",
    "\n",
    "elib_db.autocommit = True\n",
    "cursor = elib_db.cursor(buffered=True)"
   ],
   "metadata": {
    "collapsed": false
   }
  },
  {
   "cell_type": "code",
   "execution_count": 108,
   "outputs": [],
   "source": [
    "def add_book(cursor, author, title, year_of_publishing, num_of_copies):\n",
    "    add_book = (\"INSERT INTO books \"\n",
    "                \"VALUES ((SELECT MAX(book_id) + 1 FROM (SELECT * FROM books) AS books_tmp),\"\n",
    "                \" %(author)s, %(title)s, %(year_of_publishing)s, %(num_of_copies)s)\")\n",
    "    cursor.execute(add_book,\n",
    "                   {'author': author,\n",
    "                    'title': title,\n",
    "                    'year_of_publishing': str(year_of_publishing),\n",
    "                    'num_of_copies': str(num_of_copies)})"
   ],
   "metadata": {
    "collapsed": false
   }
  },
  {
   "cell_type": "code",
   "execution_count": 109,
   "outputs": [],
   "source": [
    "add_book(cursor, \"И.М. Макаров, В.М. Лохин, С.В. Манько, М.П. Романов\",\n",
    "         \"Искусственный интеллект и интеллектуальные системы управления\", 2006, 12)"
   ],
   "metadata": {
    "collapsed": false
   }
  },
  {
   "cell_type": "code",
   "execution_count": 110,
   "outputs": [],
   "source": [
    "def search_book_by_id(cursor, id):\n",
    "    search = (\"SELECT * FROM books \"\n",
    "              \"WHERE book_id = %s\")\n",
    "    cursor.execute(search, (str(id),))\n",
    "    return cursor.fetchall()"
   ],
   "metadata": {
    "collapsed": false
   }
  },
  {
   "cell_type": "code",
   "execution_count": 111,
   "outputs": [
    {
     "name": "stdout",
     "output_type": "stream",
     "text": [
      "[(3, 'Ким Д.П.', 'Теория автоматического управления, т. 1: Линейные системы', 2016, 19)]\n"
     ]
    }
   ],
   "source": [
    "print(search_book_by_id(cursor, 3))"
   ],
   "metadata": {
    "collapsed": false
   }
  },
  {
   "cell_type": "code",
   "execution_count": 154,
   "outputs": [],
   "source": [
    "def flexible_books_search(cursor,\n",
    "                          author=\"\",\n",
    "                          title=\"\",\n",
    "                          year_of_publishing=\"\",\n",
    "                          author_accurate=False,\n",
    "                          title_accurate=False,\n",
    "                          year_sign=\"=\"):\n",
    "    drop = (\"DROP TABLE \"\n",
    "            \"IF EXISTS flexible_search\")\n",
    "    cursor.execute(drop)\n",
    "\n",
    "    tab = (\"CREATE TABLE flexible_search AS \"\n",
    "           \"SELECT * from books\")\n",
    "    cursor.execute(tab)\n",
    "\n",
    "    if author != \"\":\n",
    "        tab = (\"DELETE FROM flexible_search \"\n",
    "               \"WHERE NOT author \")\n",
    "        if author_accurate:\n",
    "            tab += \"= %s\"\n",
    "            cursor.execute(tab, (author,))\n",
    "        else:\n",
    "            tab += \"LIKE %s\"\n",
    "            cursor.execute(tab, ('%' + author + '%',))\n",
    "\n",
    "    if title != \"\":\n",
    "        tab = (\"DELETE FROM flexible_search \"\n",
    "               \"WHERE NOT title \")\n",
    "        if title_accurate:\n",
    "            tab += \"= %s\"\n",
    "            cursor.execute(tab, (title,))\n",
    "        else:\n",
    "            tab += \"LIKE %s\"\n",
    "            cursor.execute(tab, ('%' + title + '%',))\n",
    "\n",
    "    if year_of_publishing != \"\":\n",
    "        tab = (\"DELETE FROM flexible_search \"\n",
    "               \"WHERE NOT year_of_publishing \" + year_sign + \"%s\")\n",
    "        cursor.execute(tab, (year_of_publishing,))\n",
    "\n",
    "    tab = \"SELECT * FROM flexible_search\"\n",
    "    cursor.execute(tab)\n",
    "\n",
    "    res = cursor.fetchall()\n",
    "\n",
    "    drop = (\"DROP TABLE \"\n",
    "            \"IF EXISTS flexible_search\")\n",
    "    cursor.execute(drop)\n",
    "\n",
    "    return res"
   ],
   "metadata": {
    "collapsed": false
   }
  },
  {
   "cell_type": "code",
   "execution_count": 155,
   "outputs": [
    {
     "data": {
      "text/plain": "[(1,\n  'Ким Д.П.',\n  'Теория игр в управлении интеллектуальными мобильными роботами - учебное пособие',\n  2019,\n  10),\n (2,\n  'Ким Д.П.',\n  'Теория автоматического управления, т. 2: Многомерные, нелинейные, оптимальные и адаптивные системы',\n  2016,\n  3),\n (3,\n  'Ким Д.П.',\n  'Теория автоматического управления, т. 1: Линейные системы',\n  2016,\n  19),\n (4, 'Лентин Дж.', 'Изучение робототехники с помощью Python', 2022, 5)]"
     },
     "execution_count": 155,
     "metadata": {},
     "output_type": "execute_result"
    }
   ],
   "source": [
    "flexible_books_search(cursor, year_of_publishing=2007, year_sign=\">=\")"
   ],
   "metadata": {
    "collapsed": false
   }
  },
  {
   "cell_type": "code",
   "execution_count": null,
   "outputs": [],
   "source": [],
   "metadata": {
    "collapsed": false
   }
  }
 ],
 "metadata": {
  "kernelspec": {
   "display_name": "Python 3",
   "language": "python",
   "name": "python3"
  },
  "language_info": {
   "codemirror_mode": {
    "name": "ipython",
    "version": 2
   },
   "file_extension": ".py",
   "mimetype": "text/x-python",
   "name": "python",
   "nbconvert_exporter": "python",
   "pygments_lexer": "ipython2",
   "version": "2.7.6"
  }
 },
 "nbformat": 4,
 "nbformat_minor": 0
}
